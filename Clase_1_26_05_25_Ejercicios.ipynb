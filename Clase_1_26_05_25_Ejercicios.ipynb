{
  "nbformat": 4,
  "nbformat_minor": 0,
  "metadata": {
    "colab": {
      "provenance": [],
      "include_colab_link": true
    },
    "kernelspec": {
      "name": "python3",
      "display_name": "Python 3"
    },
    "language_info": {
      "name": "python"
    }
  },
  "cells": [
    {
      "cell_type": "markdown",
      "metadata": {
        "id": "view-in-github",
        "colab_type": "text"
      },
      "source": [
        "<a href=\"https://colab.research.google.com/github/clauglock/Mi_proyecto/blob/main/Clase_1_26_05_25_Ejercicios.ipynb\" target=\"_parent\"><img src=\"https://colab.research.google.com/assets/colab-badge.svg\" alt=\"Open In Colab\"/></a>"
      ]
    },
    {
      "cell_type": "markdown",
      "source": [
        "#Ejercicio 1\n",
        "\n",
        "Crea 3 variables: nombre (string), edad (int), altura (float). Muestra un mensaje usando esas variables"
      ],
      "metadata": {
        "id": "AhI2v7fjK6Wy"
      }
    },
    {
      "cell_type": "code",
      "source": [
        "# Declaración de variables\n",
        "nombre = \"Claudia\"\n",
        "edad = 55\n",
        "altura = 1.57\n",
        "\n",
        "# Mostrar mensaje\n",
        "print(f\"Hola, mi nombre es {nombre}, tengo {edad} años y mido {altura} metros.\")\n"
      ],
      "metadata": {
        "id": "x4qCPnz5IZOM",
        "outputId": "13040361-1b84-414e-e55c-7a32880cae47",
        "colab": {
          "base_uri": "https://localhost:8080/"
        }
      },
      "execution_count": 1,
      "outputs": [
        {
          "output_type": "stream",
          "name": "stdout",
          "text": [
            "Hola, mi nombre es Claudia, tengo 55 años y mido 1.57 metros.\n"
          ]
        }
      ]
    },
    {
      "cell_type": "markdown",
      "source": [
        "#Ejercicio 2\n",
        "\n",
        "Pide dos números al usuario y muestra la suma, resta, multiplicación y división"
      ],
      "metadata": {
        "id": "uaSRyqd1LUci"
      }
    },
    {
      "cell_type": "code",
      "source": [
        "# Pedir dos números al usuario\n",
        "num1 = float(input(\"Ingresa el primer número: \"))\n",
        "num2 = float(input(\"Ingresa el segundo número: \"))\n",
        "\n",
        "# Realizar operaciones\n",
        "suma = num1 + num2\n",
        "resta = num1 - num2\n",
        "multiplicacion = num1 * num2\n",
        "division = num1 / num2 if num2 != 0 else \"Indefinido (división por cero)\"\n",
        "\n",
        "# Mostrar resultados\n",
        "print(f\"Suma: {suma}\")\n",
        "print(f\"Resta: {resta}\")\n"
      ],
      "metadata": {
        "id": "Bt2xzN1kI3n2",
        "outputId": "ed1906f5-42f7-4c73-c386-7582e4c53a52",
        "colab": {
          "base_uri": "https://localhost:8080/"
        }
      },
      "execution_count": 2,
      "outputs": [
        {
          "output_type": "stream",
          "name": "stdout",
          "text": [
            "Ingresa el primer número: 23\n",
            "Ingresa el segundo número: 34\n",
            "Suma: 57.0\n",
            "Resta: -11.0\n"
          ]
        }
      ]
    },
    {
      "cell_type": "markdown",
      "source": [
        "#Ejercicio 3\n",
        "\n",
        "Pide dos números al usuario y muestra la raiz y potencia del primer número con el segundo"
      ],
      "metadata": {
        "id": "Z8e8JjK-LcQM"
      }
    },
    {
      "cell_type": "code",
      "source": [
        "# Pedir dos números al usuario\n",
        "num1 = float(input(\"Ingresa el primer número: \"))\n",
        "num2 = float(input(\"Ingresa el segundo número: \"))\n",
        "\n",
        "# Calcular raíz cuadrada y potencia\n",
        "raiz = math.sqrt(num1) if num1 >= 0 else \"Indefinido (no se puede calcular la raíz de un número negativo)\"\n",
        "potencia = num1 ** num2\n",
        "\n",
        "# Mostrar resultados\n",
        "print(f\"Raíz cuadrada de {num1}: {raiz}\")\n",
        "print(f\"{num1} elevado a la potencia de {num2}: {potencia}\")\n"
      ],
      "metadata": {
        "id": "qDnLr3h2JGJB",
        "outputId": "cb1b939a-3ec4-4473-a924-aea7e8c62bd5",
        "colab": {
          "base_uri": "https://localhost:8080/"
        }
      },
      "execution_count": 4,
      "outputs": [
        {
          "output_type": "stream",
          "name": "stdout",
          "text": [
            "Ingresa el primer número: 22\n",
            "Ingresa el segundo número: 33\n",
            "Raíz cuadrada de 22.0: 4.69041575982343\n",
            "22.0 elevado a la potencia de 33.0: 1.9950255735593596e+44\n"
          ]
        }
      ]
    },
    {
      "cell_type": "markdown",
      "source": [
        "#Ejercicio 4\n",
        "\n",
        "Pide al usuario su nombre y apellido, muestra su nombre completo en mayúsculas"
      ],
      "metadata": {
        "id": "FcvRcBu-ML3O"
      }
    },
    {
      "cell_type": "code",
      "source": [
        "# Pedir nombre y apellido al usuario\n",
        "nombre = input(\"Ingresa tu nombre: \")\n",
        "apellido = input(\"Ingresa tu apellido: \")\n",
        "\n",
        "# Mostrar nombre completo en mayúsculas\n",
        "nombre_completo = f\"{nombre} {apellido}\".upper()\n",
        "print(f\"Tu nombre completo en mayúsculas es: {nombre_completo}\")\n",
        "\n"
      ],
      "metadata": {
        "id": "U9VhtgKGJf2A",
        "outputId": "4d8fd4a1-b7cf-4363-b1c9-1cb012169c8f",
        "colab": {
          "base_uri": "https://localhost:8080/"
        }
      },
      "execution_count": 5,
      "outputs": [
        {
          "output_type": "stream",
          "name": "stdout",
          "text": [
            "Ingresa tu nombre: Clau\n",
            "Ingresa tu apellido: GLock\n",
            "Tu nombre completo en mayúsculas es: CLAU GLOCK\n"
          ]
        }
      ]
    },
    {
      "cell_type": "markdown",
      "source": [
        "#Ejercicio 5\n",
        "\n",
        "- Crea una lista con 5 comidas favoritas\n",
        "- Agrega una nueva comida\n",
        "- Elimina una comida\n",
        "- Muestra la lista actualizada"
      ],
      "metadata": {
        "id": "FLqo_rYtMLvs"
      }
    },
    {
      "cell_type": "code",
      "source": [
        "# Crear lista con 5 comidas favoritas\n",
        "comidas_favoritas = [\"Pizza\", \"Sushi\", \"Pasta\", \"Tacos\", \"Hamburguesa\"]\n",
        "\n",
        "# Agregar una nueva comida\n",
        "comidas_favoritas.append(\"Ceviche\")\n",
        "\n",
        "# Eliminar una comida\n",
        "comidas_favoritas.remove(\"Tacos\")\n",
        "\n",
        "# Mostrar la lista actualizada\n",
        "print(\"Lista actualizada de comidas favoritas:\")\n",
        "print(comidas_favoritas)\n"
      ],
      "metadata": {
        "id": "zvJTVh5RJwqB",
        "outputId": "57bb6612-0c2d-49a0-b07c-8ddd1cf79f25",
        "colab": {
          "base_uri": "https://localhost:8080/"
        }
      },
      "execution_count": 16,
      "outputs": [
        {
          "output_type": "stream",
          "name": "stdout",
          "text": [
            "Lista actualizada de comidas favoritas:\n",
            "['Pizza', 'Sushi', 'Pasta', 'Hamburguesa', 'Ceviche']\n"
          ]
        }
      ]
    },
    {
      "cell_type": "markdown",
      "source": [
        "#Ejercicio 6\n",
        "\n",
        "Crea una lista con 3 colores. Intercambia el primer y último color"
      ],
      "metadata": {
        "id": "ZPsEzKT7MLo7"
      }
    },
    {
      "cell_type": "code",
      "source": [
        "# Crear lista con 3 colores\n",
        "colores = [\"Lila\", \"Amarillo\", \"Azul\"]\n",
        "\n",
        "# Intercambiar el primer y último color\n",
        "colores[0], colores[-1] = colores[-1], colores[0]\n",
        "\n",
        "# Mostrar la lista actualizada\n",
        "print(\"Lista actualizada de colores:\")\n",
        "print(colores)\n"
      ],
      "metadata": {
        "id": "R6KL2KIiKVjx",
        "outputId": "ebaa7b00-cb2e-4c59-d88c-9e73f8051830",
        "colab": {
          "base_uri": "https://localhost:8080/"
        }
      },
      "execution_count": 21,
      "outputs": [
        {
          "output_type": "stream",
          "name": "stdout",
          "text": [
            "Lista actualizada de colores:\n",
            "['Azul', 'Amarillo', 'Lila']\n"
          ]
        }
      ]
    },
    {
      "cell_type": "markdown",
      "source": [
        "#Ejercicio 7\n",
        "\n",
        "Crea una tupla con 3 elementos. Muestra el segundo elemento\n"
      ],
      "metadata": {
        "id": "qlB5A-wDMLil"
      }
    },
    {
      "cell_type": "code",
      "source": [
        "# Crear una tupla con 3 elementos\n",
        "mi_tupla = (\"lapiz\", \"Cuaderno\", \"Libro\")\n",
        "\n",
        "# Mostrar el segundo elemento\n",
        "print(f\"El segundo elemento es: {mi_tupla[1]}\")\n"
      ],
      "metadata": {
        "id": "qgMvvE69Kn6K",
        "outputId": "4a07f7e8-431b-4170-9761-91b06196f386",
        "colab": {
          "base_uri": "https://localhost:8080/"
        }
      },
      "execution_count": 20,
      "outputs": [
        {
          "output_type": "stream",
          "name": "stdout",
          "text": [
            "El segundo elemento es: Cuaderno\n"
          ]
        }
      ]
    },
    {
      "cell_type": "markdown",
      "source": [
        "#Ejercicio 8\n",
        "\n",
        "Crea un diccionario con datos de una película: nombre, director y año. Muestra el nombre y el director\n"
      ],
      "metadata": {
        "id": "79hnoyE8MLa0"
      }
    },
    {
      "cell_type": "code",
      "source": [
        "# Crear diccionario con datos de una película\n",
        "pelicula = {\n",
        "    \"nombre\": \"2012\",\n",
        "    \"director\": \"EL director\",\n",
        "    \"año\": 2012\n",
        "}\n",
        "\n",
        "# Mostrar el nombre y el director\n",
        "print(f\"Nombre de la película: {pelicula['nombre']}\")\n",
        "print(f\"Director: {pelicula['director']}\")\n"
      ],
      "metadata": {
        "id": "PnkSSt7XLNGf",
        "outputId": "8c7903be-98dc-4973-a05d-1f23c73b62b4",
        "colab": {
          "base_uri": "https://localhost:8080/"
        }
      },
      "execution_count": 23,
      "outputs": [
        {
          "output_type": "stream",
          "name": "stdout",
          "text": [
            "Nombre de la película: 2012\n",
            "Director: EL director\n"
          ]
        }
      ]
    },
    {
      "cell_type": "markdown",
      "source": [
        "#Ejercicio 9\n",
        "\n",
        "Tienes una lista de números desordenados\n",
        "numeros = [8, 3, 5, 1, 9]\n",
        "\n",
        "- Paso 1: Agrega el número 7 a la lista\n",
        "- Paso 2: Elimina el número que está en la posición 2\n",
        "- Paso 3: Ordena la lista de menor a mayor\n",
        "- Paso 4: Muestra la lista final"
      ],
      "metadata": {
        "id": "cik3945zNWEg"
      }
    },
    {
      "cell_type": "code",
      "source": [
        "# Lista inicial de números\n",
        "numeros = [8, 3, 5, 1, 9]\n",
        "\n",
        "# Paso 1: Agregar el número 7 a la lista\n",
        "numeros.append(7)\n",
        "\n",
        "# Paso 2: Eliminar el número en la posición 2 (recordando que las listas comienzan en índice 0)\n",
        "del numeros[2]\n",
        "\n",
        "# Paso 3: Ordenar la lista de menor a mayor\n",
        "numeros.sort()\n",
        "# Paso 4: Mostrar la lista final\n",
        "print(\"Lista final ordenada:\", numeros)\n",
        "\n"
      ],
      "metadata": {
        "id": "8AAb7F3SLlQb",
        "outputId": "694db4eb-670e-4e99-d6da-3431e79c1fbb",
        "colab": {
          "base_uri": "https://localhost:8080/"
        }
      },
      "execution_count": 31,
      "outputs": [
        {
          "output_type": "stream",
          "name": "stdout",
          "text": [
            "Lista final ordenada: [1, 3, 7, 8, 9]\n"
          ]
        }
      ]
    },
    {
      "cell_type": "markdown",
      "source": [
        "#Ejercicio 10\n",
        "\n",
        "Tienes el siguiente diccionario:\n",
        "mascota = {\n",
        "    \"nombre\": \"Luna\",\n",
        "    \"tipo\": \"gato\",\n",
        "    \"edad\": 3\n",
        "}\n",
        "\n",
        "- Paso 1: Cambia el valor de \"edad\" a 4\n",
        "- Paso 2: Agrega una nueva clave llamada \"color\" con el valor \"gris\"\n",
        "- Paso 3: Elimina la clave \"tipo\"\n",
        "- Paso 4: Muestra el diccionario final"
      ],
      "metadata": {
        "id": "DwGnfhuONWA-"
      }
    },
    {
      "cell_type": "markdown",
      "source": [
        "#Ejercicio 11\n",
        "\n",
        "datos = {\n",
        "    \"valores\": [3, 9, 1, 6, 4]\n",
        "}\n",
        "\n",
        "- Encuentra el valor máximo y mínimo usando max() y min()\n",
        "- Multiplica esos dos valores y muestra el resultado"
      ],
      "metadata": {
        "id": "QTh05ELYOal7"
      }
    },
    {
      "cell_type": "markdown",
      "source": [
        "#Ejercicio 12\n",
        "\n",
        "datos = {\n",
        "    \"numeros\": [2, 7, 4, 9],\n",
        "    \"factor\": 3\n",
        "}\n",
        "\n",
        "- Paso 1: Obtén el número mayor de la lista \"numeros\" usando max()\n",
        "- Paso 2: Multiplica ese número por el valor de \"factor\"\n",
        "- Paso 3: Resta 5 al resultado\n",
        "- Paso 4: Muestra el resultado final"
      ],
      "metadata": {
        "id": "iTxi3JbLOajG"
      }
    },
    {
      "cell_type": "markdown",
      "source": [
        "#Ejercicio 13\n",
        "\n",
        "Crea 2 diccionarios, el primero debe tener los datos nombre, edad y ciudad. El segundo debe tener edad y profesión. Todas las claves deben tener al menos 1 valor.\n",
        "\n",
        "- Paso 1: Actualiza la edad del primer diccionario con la edad del segundo diccionario\n",
        "- Paso 2: Agrega la profesión al primer diccionario\n",
        "- Paso 3: Crea y muestra un str que diga: \"'nombre' tiene 'edad' años y es 'profesión'\""
      ],
      "metadata": {
        "id": "CZrHOSSYOagU"
      }
    },
    {
      "cell_type": "markdown",
      "source": [
        "#Ejercicio 14\n",
        "\n",
        "- Crea 2 listas de al menos 5 elementos cada una y unelas.\n",
        "- Cambia el sexto elemento de la nueva lista por otra lista con 3 nombres.\n",
        "- Agregar un nuevo nombre a la lista de nombres dentro de la lista."
      ],
      "metadata": {
        "id": "TJ0ZDRvmOadn"
      }
    },
    {
      "cell_type": "markdown",
      "source": [
        "#Ejercicio 15\n",
        "\n",
        "Calcula la suma total de todas las ventas"
      ],
      "metadata": {
        "id": "NyBclH5POabD"
      }
    },
    {
      "cell_type": "code",
      "source": [
        "tienda = {\n",
        "    \"ciudad\": [\"Lima\", \"Bogotá\", \"Quito\", \"Lima\", \"Buenos Aires\", \"Santiago\", \"Bogotá\", \"Quito\", \"Santiago\", \"Lima\"],\n",
        "    \"producto\": [\"camisa\", \"pantalón\", \"zapatos\", \"camisa\", \"falda\", \"zapatos\", \"pantalón\", \"falda\", \"camisa\", \"zapatos\"],\n",
        "    \"fecha\": [\"2025-05-01\", \"2025-05-02\", \"2025-05-01\", \"2025-05-03\", \"2025-05-02\", \"2025-05-03\", \"2025-05-04\", \"2025-05-05\", \"2025-05-05\", \"2025-05-06\"],\n",
        "    \"ventas\": [1500, 3200, 8500, 2700, 6000, 7200, 4100, 1800, 9500, 10500]\n",
        "}"
      ],
      "metadata": {
        "id": "OvOjNYQsRXpN"
      },
      "execution_count": null,
      "outputs": []
    },
    {
      "cell_type": "markdown",
      "source": [
        "#Ejercicio 16\n",
        "\n",
        "- Por un descuento, debes reducir en 10% todas las ventas\n",
        "- Actualiza la lista 'ventas' con los nuevos valores\n",
        "- Muestra la nueva suma total de las ventas"
      ],
      "metadata": {
        "id": "vUfeB1xhOaYF"
      }
    },
    {
      "cell_type": "markdown",
      "source": [
        "#Ejercicio 17\n",
        "\n",
        "- Cambia el último elemento de producto\n",
        "- Muestra solo la lista 'producto' actualizada"
      ],
      "metadata": {
        "id": "pOwYJqLqOaVK"
      }
    }
  ]
}