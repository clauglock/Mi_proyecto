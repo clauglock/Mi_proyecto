{
  "nbformat": 4,
  "nbformat_minor": 0,
  "metadata": {
    "colab": {
      "provenance": [],
      "include_colab_link": true
    },
    "kernelspec": {
      "name": "python3",
      "display_name": "Python 3"
    },
    "language_info": {
      "name": "python"
    }
  },
  "cells": [
    {
      "cell_type": "markdown",
      "metadata": {
        "id": "view-in-github",
        "colab_type": "text"
      },
      "source": [
        "<a href=\"https://colab.research.google.com/github/clauglock/Mi_proyecto/blob/main/Copia_de_Clase_2_17_05_25_Ejercicios.ipynb\" target=\"_parent\"><img src=\"https://colab.research.google.com/assets/colab-badge.svg\" alt=\"Open In Colab\"/></a>"
      ]
    },
    {
      "cell_type": "markdown",
      "source": [
        "#Ejercicio 1\n",
        "\n",
        "Crea un diccionario con claves \"edad\" y \"invitado\". Solo puede entrar si tiene al menos 18 años y está en la lista de invitados."
      ],
      "metadata": {
        "id": "wuKndgbUHIcv"
      }
    },
    {
      "cell_type": "code",
      "source": [
        "# Crear diccionario con la edad y el nombre del invitado\n",
        "persona = {\"edad\": 10, \"invitado\": \"Carlos\"}\n",
        "persona = {\"edad\": 20, \"invitado\": \"Ana\"}\n",
        "\n",
        "# Lista de invitados permitidos\n",
        "lista_invitados = [\"Ana\", \"Carlos\"]\n",
        "\n",
        "# Verificar condiciones\n",
        "if persona[\"edad\"] >= 18 and persona[\"invitado\"] in lista_invitados:\n",
        "    print(f\"{persona['invitado']} puede entrar.\")\n",
        "else:\n",
        "    print(f\"{persona['invitado']} no cumple con los requisitos para entrar.\")\n",
        "\n"
      ],
      "metadata": {
        "id": "lArxh-JARJGQ",
        "colab": {
          "base_uri": "https://localhost:8080/"
        },
        "outputId": "440df0b4-e975-4c26-c51f-39922fe044ff"
      },
      "execution_count": 6,
      "outputs": [
        {
          "output_type": "stream",
          "name": "stdout",
          "text": [
            "Ana puede entrar.\n"
          ]
        }
      ]
    },
    {
      "cell_type": "markdown",
      "source": [
        "#Ejercicio 2\n",
        "\n",
        "Dado un número de 0 a 20, muestra el mensaje:\n",
        "\n",
        "- \"Muy bien\" si es mayor o igual a 18\n",
        "- \"Bien\" si es entre 14 y 17\n",
        "- \"Suficiente\" si es entre 11 y 13\n",
        "- \"Desaprobado\" si es menor de 11"
      ],
      "metadata": {
        "id": "FhnIsFgNHIWZ"
      }
    },
    {
      "cell_type": "code",
      "source": [
        "# Pedir un número al usuario\n",
        "numero = int(input(\"Ingresa un número entre 0 y 20: \"))\n",
        "\n",
        "# Evaluar el número y mostrar el mensaje correspondiente\n",
        "if numero >= 18:\n",
        "    mensaje = \"Muy bien\"\n",
        "elif 14 <= numero <= 17:\n",
        "    mensaje = \"Bien\"\n",
        "elif 11 <= numero <= 13:\n",
        "    mensaje = \"Suficiente\"\n",
        "else:\n",
        "    mensaje = \"Desaprobado\"\n",
        "\n",
        "print(f\"Resultado: {mensaje}\")\n",
        "\n"
      ],
      "metadata": {
        "colab": {
          "base_uri": "https://localhost:8080/"
        },
        "id": "E4iLS0dXTsCI",
        "outputId": "9001a395-65ff-4a95-88d8-209230bb65a5"
      },
      "execution_count": 9,
      "outputs": [
        {
          "output_type": "stream",
          "name": "stdout",
          "text": [
            "Ingresa un número entre 0 y 20: 20\n",
            "Resultado: Muy bien\n"
          ]
        }
      ]
    },
    {
      "cell_type": "markdown",
      "source": [
        "#Ejercicio 3\n",
        "\n",
        "Tienes una lista de productos. Pide al usuario que escriba uno y muestra si está disponible o no."
      ],
      "metadata": {
        "id": "GynBrCG4HIQ4"
      }
    },
    {
      "cell_type": "code",
      "source": [
        "productos = [\"manzana\", \"pan\", \"leche\", \"queso\"]"
      ],
      "metadata": {
        "id": "aqL36IhWRMNk"
      },
      "execution_count": null,
      "outputs": []
    },
    {
      "cell_type": "markdown",
      "source": [
        "#Ejercicio 4\n",
        "\n",
        "Haz un programa que solicite el dia de la semana (lunes, martes, etc) y segun el dia muestre un menu diferente, ademas si es sabado o domingo debe dar un mensaje distinto ya que dichos dias no hay menu."
      ],
      "metadata": {
        "id": "Ul_ngD_pHILP"
      }
    },
    {
      "cell_type": "markdown",
      "source": [
        "#Ejercicio 5\n",
        "\n",
        "Tienes un diccionario de productos con su stock. Pide el nombre del producto y muestra si está disponible o agotado."
      ],
      "metadata": {
        "id": "0fbuG-plHH5Q"
      }
    },
    {
      "cell_type": "markdown",
      "source": [
        "#Ejercicio 6\n",
        "\n",
        "Pide una edad y clasifícala como:\n",
        "\n",
        "- \"Niño\" si < 13\n",
        "- \"Adolescente\" si < 18\n",
        "- \"Adulto\" si < 60\n",
        "- \"Adulto mayor\" si ≥ 60\n",
        "\n",
        "Reconoce si no se ingresa una edad."
      ],
      "metadata": {
        "id": "eazGbSgwHHzl"
      }
    },
    {
      "cell_type": "markdown",
      "source": [
        "#Ejercicio 7\n",
        "\n",
        "Haz un programa que pida un numero, y devuelva par o impar como respuesta, el programa debe reconocer si no se ingresan numeros."
      ],
      "metadata": {
        "id": "fMjrO7lXHIFJ"
      }
    },
    {
      "cell_type": "markdown",
      "source": [
        "#Ejercicio 8\n",
        "\n",
        "Crea un diccionario de usuarios y contraseñas, luego solicita al usuario ingresar su usuario y contraseña, muestra un mensaje acorde a si ambos son correctos, ambos incorrectos o solo 1 es correcto."
      ],
      "metadata": {
        "id": "znxySClZHHt0"
      }
    },
    {
      "cell_type": "markdown",
      "source": [
        "#Ejercicio 9\n",
        "\n",
        "Solicita un mail y verifica si este es correcto validando los siguientes datos:\n",
        "\n",
        "- que el mail contenga 1 @\n",
        "- que el mail termine en .com o .pe o .edu\n",
        "- que el dominio sea gmail o hotmail"
      ],
      "metadata": {
        "id": "FxYrhuM5HHot"
      }
    },
    {
      "cell_type": "markdown",
      "source": [
        "#Ejercicio 10\n",
        "\n",
        "Dado un diccionario. Recomienda lo siguiente:\n",
        "\n",
        "Si es mayor de 18, está en Perú, y le gusta \"aventura\", recomienda \"Camino Inca\". Si le gusta \"comedia\", recomienda \"Festival de Cine\"."
      ],
      "metadata": {
        "id": "LxvjW4fZHHiv"
      }
    },
    {
      "cell_type": "code",
      "source": [
        "usuario = {\n",
        "    \"edad\": 22,\n",
        "    \"gustos\": [\"aventura\", \"comedia\"],\n",
        "    \"pais\": \"Perú\"\n",
        "}"
      ],
      "metadata": {
        "id": "NuELraE4UYHu"
      },
      "execution_count": null,
      "outputs": []
    },
    {
      "cell_type": "markdown",
      "source": [
        "#Ejercicio 11\n",
        "\n",
        "Compara 2 productos segun los siguientes criterios:\n",
        "- Si tienen la misma categoría, elige el más barato que tenga stock.\n",
        "- Si no tienen stock, imprimir \"No disponible\"."
      ],
      "metadata": {
        "id": "gTLmvpe9HH_D"
      }
    },
    {
      "cell_type": "code",
      "source": [
        "prod1 = {\"precio\": 1200, \"stock\": 5, \"categoria\": \"tecnología\"}\n",
        "prod2 = {\"precio\": 900, \"stock\": 0, \"categoria\": \"tecnología\"}"
      ],
      "metadata": {
        "id": "RLg3YcjEU54r"
      },
      "execution_count": null,
      "outputs": []
    },
    {
      "cell_type": "markdown",
      "source": [
        "#Ejercicio 12\n",
        "\n",
        "Haz un programa que juegue piedra, papel o tijeras.\n",
        "\n",
        "- El programa debe solicitar al usuario un input y solo aceptar los 3 inputs validos, de lo contrario debe finalizar.\n",
        "- El programa debe ganar siempre."
      ],
      "metadata": {
        "id": "ihd-QsVwHFe1"
      }
    }
  ]
}