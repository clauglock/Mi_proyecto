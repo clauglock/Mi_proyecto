{
  "nbformat": 4,
  "nbformat_minor": 0,
  "metadata": {
    "colab": {
      "provenance": [],
      "include_colab_link": true
    },
    "kernelspec": {
      "name": "python3",
      "display_name": "Python 3"
    },
    "language_info": {
      "name": "python"
    }
  },
  "cells": [
    {
      "cell_type": "markdown",
      "metadata": {
        "id": "view-in-github",
        "colab_type": "text"
      },
      "source": [
        "<a href=\"https://colab.research.google.com/github/clauglock/Mi_proyecto/blob/main/Copia_de_Clase_3_28_05_25_Ejercicios_CGL.ipynb\" target=\"_parent\"><img src=\"https://colab.research.google.com/assets/colab-badge.svg\" alt=\"Open In Colab\"/></a>"
      ]
    },
    {
      "cell_type": "markdown",
      "source": [
        "#Ejercicio 1\n",
        "\n",
        "Crea un programa que cuente del 1 al 100"
      ],
      "metadata": {
        "id": "fxKl2zzccu65"
      }
    },
    {
      "cell_type": "code",
      "source": [
        "for numero in range(100):\n",
        " print(numero)"
      ],
      "metadata": {
        "colab": {
          "base_uri": "https://localhost:8080/"
        },
        "id": "CY3jpzsZFK3p",
        "outputId": "de2f8680-9987-4f8a-f475-45fed29bf09e"
      },
      "execution_count": 4,
      "outputs": [
        {
          "output_type": "stream",
          "name": "stdout",
          "text": [
            "0\n",
            "1\n",
            "2\n",
            "3\n",
            "4\n",
            "5\n",
            "6\n",
            "7\n",
            "8\n",
            "9\n",
            "10\n",
            "11\n",
            "12\n",
            "13\n",
            "14\n",
            "15\n",
            "16\n",
            "17\n",
            "18\n",
            "19\n",
            "20\n",
            "21\n",
            "22\n",
            "23\n",
            "24\n",
            "25\n",
            "26\n",
            "27\n",
            "28\n",
            "29\n",
            "30\n",
            "31\n",
            "32\n",
            "33\n",
            "34\n",
            "35\n",
            "36\n",
            "37\n",
            "38\n",
            "39\n",
            "40\n",
            "41\n",
            "42\n",
            "43\n",
            "44\n",
            "45\n",
            "46\n",
            "47\n",
            "48\n",
            "49\n",
            "50\n",
            "51\n",
            "52\n",
            "53\n",
            "54\n",
            "55\n",
            "56\n",
            "57\n",
            "58\n",
            "59\n",
            "60\n",
            "61\n",
            "62\n",
            "63\n",
            "64\n",
            "65\n",
            "66\n",
            "67\n",
            "68\n",
            "69\n",
            "70\n",
            "71\n",
            "72\n",
            "73\n",
            "74\n",
            "75\n",
            "76\n",
            "77\n",
            "78\n",
            "79\n",
            "80\n",
            "81\n",
            "82\n",
            "83\n",
            "84\n",
            "85\n",
            "86\n",
            "87\n",
            "88\n",
            "89\n",
            "90\n",
            "91\n",
            "92\n",
            "93\n",
            "94\n",
            "95\n",
            "96\n",
            "97\n",
            "98\n",
            "99\n"
          ]
        }
      ]
    },
    {
      "cell_type": "code",
      "source": [],
      "metadata": {
        "id": "6agqidolGSZX"
      },
      "execution_count": null,
      "outputs": []
    },
    {
      "cell_type": "markdown",
      "source": [
        "#Ejercicio 2\n",
        "\n",
        "Crea un programa que cuente entre 2 numeros que sean solicitados al usuario como input"
      ],
      "metadata": {
        "id": "PYsgRwQ3cu4M"
      }
    },
    {
      "cell_type": "code",
      "source": [
        "numero1 = int(input(\"Ingrese numero 1\"))\n",
        "numero2 = int(input(\"Ingrese nuemro 2\"))\n",
        "for numero in range(numero1,numero2):\n",
        " print(numero)"
      ],
      "metadata": {
        "colab": {
          "base_uri": "https://localhost:8080/"
        },
        "id": "2a8I9eSpGWGL",
        "outputId": "d220dc49-40eb-453f-f723-44acc6bacb51"
      },
      "execution_count": 6,
      "outputs": [
        {
          "output_type": "stream",
          "name": "stdout",
          "text": [
            "Ingrese numero 12\n",
            "Ingrese nuemro 28\n",
            "2\n",
            "3\n",
            "4\n",
            "5\n",
            "6\n",
            "7\n"
          ]
        }
      ]
    },
    {
      "cell_type": "markdown",
      "source": [
        "#Ejercicio 3\n",
        "\n",
        "Crea un programa que solicite un input, si el input es menor a 10 debe volver a pedirlo hasta que el input sea correcto"
      ],
      "metadata": {
        "id": "5zJeaCsQcu1j"
      }
    },
    {
      "cell_type": "code",
      "source": [
        "while True:\n",
        "    numero = int(input(\"Ingresa un número mayor o igual a 10: \"))\n",
        "    if numero >= 10:\n",
        "        break  # Sale del bucle cuando el número es válido\n",
        "    print(\"Número demasiado pequeño. Intenta otra vez.\")\n",
        "\n",
        "print(f\"Número aceptado: {numero}\")\n"
      ],
      "metadata": {
        "colab": {
          "base_uri": "https://localhost:8080/"
        },
        "id": "Din4h6d_IpdX",
        "outputId": "38ef25f2-bc49-4937-fdd7-eda7ef2d1620"
      },
      "execution_count": 7,
      "outputs": [
        {
          "output_type": "stream",
          "name": "stdout",
          "text": [
            "Ingresa un número mayor o igual a 10: 5\n",
            "Número demasiado pequeño. Intenta otra vez.\n",
            "Ingresa un número mayor o igual a 10: 10\n",
            "Número aceptado: 10\n"
          ]
        }
      ]
    },
    {
      "cell_type": "markdown",
      "source": [
        "#Ejercicio 4\n",
        "\n",
        "Crea un programa que imprima los numeros del 1 al 20 excepto los que terminan en 2, 4 o 6."
      ],
      "metadata": {
        "id": "FdY9O8PXcuzK"
      }
    },
    {
      "cell_type": "code",
      "source": [
        "for numero in range(1, 21):\n",
        "    if numero % 10 in [2, 4, 6]:  # Verificar el último dígito\n",
        "        continue  # Si termina en 2, 4 o 6\n",
        "    print(numero)\n"
      ],
      "metadata": {
        "colab": {
          "base_uri": "https://localhost:8080/"
        },
        "id": "SWofx-rpLRwc",
        "outputId": "19b59e7d-e9ad-4bff-ccdc-acd6e2717d43"
      },
      "execution_count": 12,
      "outputs": [
        {
          "output_type": "stream",
          "name": "stdout",
          "text": [
            "1\n",
            "3\n",
            "5\n",
            "7\n",
            "8\n",
            "9\n",
            "10\n",
            "11\n",
            "13\n",
            "15\n",
            "17\n",
            "18\n",
            "19\n",
            "20\n"
          ]
        }
      ]
    },
    {
      "cell_type": "markdown",
      "source": [
        "#Ejercicio 5\n",
        "\n",
        "Crea una lista con 5 nombres. Luego solicita al usuario un nombre, si el nombre esta en la lista debes dar un mensaje de exito, de lo contrario debes solicitar nuevamente el nombre hasta que obtener alguno correcto."
      ],
      "metadata": {
        "id": "-Igxout7cuwn"
      }
    },
    {
      "cell_type": "code",
      "source": [
        "# Lista de nombres\n",
        "nombres = [\"Clau\", \"Bea\", \"Sam\", \"Nelo\", \"Vixo\"]\n",
        "\n",
        "while True:\n",
        "    # Pedir al usuario que ingrese un nombre\n",
        "    nombre_usuario = input(\"Ingresa un nombre: \").strip()\n",
        "\n",
        "    # Si el nombre está en la lista\n",
        "    if nombre_usuario in nombres:\n",
        "        print(f\"Bien '{nombre_usuario}' está en la lista.\")\n",
        "        break  # Salir del bucle si el nombre es correcto\n",
        "    else:\n",
        "        print(\"Nombre no encontrado. Intenta nuevamente.\")\n",
        "\n"
      ],
      "metadata": {
        "colab": {
          "base_uri": "https://localhost:8080/"
        },
        "id": "dcR0VmgmO9Wi",
        "outputId": "35974aa4-c574-4121-b504-c4807da51be0"
      },
      "execution_count": 13,
      "outputs": [
        {
          "output_type": "stream",
          "name": "stdout",
          "text": [
            "Ingresa un nombre: Claudita\n",
            "Nombre no encontrado. Intenta nuevamente.\n",
            "Ingresa un nombre: Clau\n",
            "Bien 'Clau' está en la lista.\n"
          ]
        }
      ]
    },
    {
      "cell_type": "markdown",
      "source": [
        "#Ejercicio 6\n",
        "\n",
        "Toma el ejercicio anterior, pero ahora pon un limite de intentos de 3."
      ],
      "metadata": {
        "id": "cjdklUD-cuuK"
      }
    },
    {
      "cell_type": "code",
      "source": [
        "\n",
        "# Lista de nombres\n",
        "nombres = [\"Clau\", \"Bea\", \"Sam\", \"Nelo\", \"Vixo\"]\n",
        "x = 1\n",
        "while x < 4:\n",
        "    # Pedir al usuario que ingrese un nombre\n",
        "    nombre_usuario = input(\"Ingresa un nombre: \").strip()\n",
        "\n",
        "    # Si el nombre está en la lista\n",
        "    if nombre_usuario in nombres:\n",
        "        print(f\"Bien '{nombre_usuario}' está en la lista.\")\n",
        "        break  # Salir del bucle si el nombre es correcto\n",
        "    else:\n",
        "        if x < 3:\n",
        "         print(f\"Nombre no encontrado. Intenta nuevamente. {x}\")\n",
        "        else:\n",
        "         print(f\"Total de intentos validos. {x}\")\n",
        "    x = x + 1\n"
      ],
      "metadata": {
        "colab": {
          "base_uri": "https://localhost:8080/"
        },
        "id": "klAiFoWxPbof",
        "outputId": "cfe161ae-9ca9-4a9d-d5df-45fbc1b732e2"
      },
      "execution_count": 30,
      "outputs": [
        {
          "output_type": "stream",
          "name": "stdout",
          "text": [
            "Ingresa un nombre: cc\n",
            "Nombre no encontrado. Intenta nuevamente. 1\n",
            "Ingresa un nombre: clau\n",
            "Nombre no encontrado. Intenta nuevamente. 2\n",
            "Ingresa un nombre: Clau\n",
            "Bien 'Clau' está en la lista.\n"
          ]
        }
      ]
    },
    {
      "cell_type": "markdown",
      "source": [
        "#Ejercicio 7\n",
        "\n",
        "Toma el ejercicio anterior, pero ahora mejoralo de forma tal que si el nombre es ingresado con espacios de mas, en maysculas o de cualquier otra forma funcione."
      ],
      "metadata": {
        "id": "pC57amtEcurZ"
      }
    },
    {
      "cell_type": "code",
      "source": [
        "\n",
        "# Lista de nombres\n",
        "nombres = [\"Clau\", \"Bea\", \"Sam\", \"Nelo\", \"Vixo\"]\n",
        "x = 1\n",
        "while x < 4:\n",
        "    # Pedir al usuario que ingrese un nombre\n",
        "    nombre_usuario = input(\"Ingresa un nombre: \").strip().capitalize()\n",
        "\n",
        "    # Si el nombre está en la lista\n",
        "    if nombre_usuario in nombres:\n",
        "        print(f\"Bien '{nombre_usuario}' está en la lista.\")\n",
        "        break  # Salir del bucle si el nombre es correcto\n",
        "    else:\n",
        "        if x < 3:\n",
        "         print(f\"Nombre no encontrado. Intenta nuevamente. {x}\")\n",
        "        else:\n",
        "         print(f\"Total de intentos validos. {x}\")\n",
        "    x = x + 1"
      ],
      "metadata": {
        "colab": {
          "base_uri": "https://localhost:8080/"
        },
        "id": "LbQAhi3UTFtB",
        "outputId": "1bba58ec-6bf7-4f7d-f7c7-b1ea49eb2366"
      },
      "execution_count": 31,
      "outputs": [
        {
          "output_type": "stream",
          "name": "stdout",
          "text": [
            "Ingresa un nombre: clau\n",
            "Bien 'Clau' está en la lista.\n"
          ]
        }
      ]
    },
    {
      "cell_type": "markdown",
      "source": [
        "#Ejercicio 8\n",
        "\n",
        "Haz un programa que imprima solo los numeros pares entre 2 numeros dados por el usuario."
      ],
      "metadata": {
        "id": "VTDbgyM8wy6K"
      }
    },
    {
      "cell_type": "code",
      "source": [
        "# Pedir dos números al usuario\n",
        "inicio = int(input(\"Ingresa el primer número: \"))\n",
        "fin = int(input(\"Ingresa el segundo número: \"))\n",
        "\n",
        "# Imprimir solo los números pares en el rango\n",
        "print(\"Números pares en el rango:\")\n",
        "for numero in range(inicio, fin + 1):\n",
        "    if numero % 2 == 0:\n",
        "        print(numero)\n"
      ],
      "metadata": {
        "colab": {
          "base_uri": "https://localhost:8080/"
        },
        "id": "Iex4u94_UiqM",
        "outputId": "d1de2c51-495a-4b0e-a6b1-a95f24cb4833"
      },
      "execution_count": 33,
      "outputs": [
        {
          "output_type": "stream",
          "name": "stdout",
          "text": [
            "Ingresa el primer número: 1\n",
            "Ingresa el segundo número: 20\n",
            "Números pares en el rango:\n",
            "2\n",
            "4\n",
            "6\n",
            "8\n",
            "10\n",
            "12\n",
            "14\n",
            "16\n",
            "18\n",
            "20\n"
          ]
        }
      ]
    },
    {
      "cell_type": "markdown",
      "source": [
        "#Ejercicio 9\n",
        "\n",
        "Haz un programa que imprima los numero del 1 al 50, pero si es multiplo de 3 debe imprimir fizz, si es multiplo de 5 debe imprimir buzz y si es multiplo de ambos debe imprimir fizzbuzz."
      ],
      "metadata": {
        "id": "E2Wt3fiMcteq"
      }
    },
    {
      "cell_type": "code",
      "source": [
        "for numero in range(1, 51):\n",
        "    if numero % 3 == 0 and numero % 5 == 0:\n",
        "        print(\"FizzBuzz\")\n",
        "    elif numero % 3 == 0:\n",
        "        print(\"Fizz\")\n",
        "    elif numero % 5 == 0:\n",
        "        print(\"Buzz\")\n",
        "    else:\n",
        "        print(numero)\n",
        "\n",
        "\n"
      ],
      "metadata": {
        "colab": {
          "base_uri": "https://localhost:8080/"
        },
        "id": "mIMDA2qsbS1w",
        "outputId": "b1c2b1cd-6ee2-4f0b-b30a-22aa5dc35fd0"
      },
      "execution_count": 34,
      "outputs": [
        {
          "output_type": "stream",
          "name": "stdout",
          "text": [
            "1\n",
            "2\n",
            "Fizz\n",
            "4\n",
            "Buzz\n",
            "Fizz\n",
            "7\n",
            "8\n",
            "Fizz\n",
            "Buzz\n",
            "11\n",
            "Fizz\n",
            "13\n",
            "14\n",
            "FizzBuzz\n",
            "16\n",
            "17\n",
            "Fizz\n",
            "19\n",
            "Buzz\n",
            "Fizz\n",
            "22\n",
            "23\n",
            "Fizz\n",
            "Buzz\n",
            "26\n",
            "Fizz\n",
            "28\n",
            "29\n",
            "FizzBuzz\n",
            "31\n",
            "32\n",
            "Fizz\n",
            "34\n",
            "Buzz\n",
            "Fizz\n",
            "37\n",
            "38\n",
            "Fizz\n",
            "Buzz\n",
            "41\n",
            "Fizz\n",
            "43\n",
            "44\n",
            "FizzBuzz\n",
            "46\n",
            "47\n",
            "Fizz\n",
            "49\n",
            "Buzz\n"
          ]
        }
      ]
    },
    {
      "cell_type": "markdown",
      "source": [
        "#Ejercicio 10\n",
        "\n",
        "Solicita al usuario 2 numeros. El programa debe imprimir solo los numeros pares dentro de ese rango. El programa debe funcionar sin importar si los inputs son dados de forma erronea, eso quiere decir que si un input no es valido debe volver a solicitarlo y si los inputs estan dados en desorden es decir si el primero es mayor y el segundo es menor debe seguir funcionando."
      ],
      "metadata": {
        "id": "iS57EMMsxBBV"
      }
    },
    {
      "cell_type": "code",
      "source": [
        "numero1 = int(input(\"Ingrese numero 1  \"))\n",
        "numero2 = int(input(\"Ingrese numero 2  \"))\n",
        "\n",
        "\n",
        "# Ordenar los números para asegurar el rango correcto\n",
        "inicio, fin = sorted([numero1, numero2])\n",
        "\n",
        "# Imprimir solo los números pares en el rango ordenado\n",
        "print(\"Números pares en el rango:\")\n",
        "for numero in range(inicio, fin + 1):\n",
        "    if numero % 2 == 0:\n",
        "        print(numero)\n"
      ],
      "metadata": {
        "colab": {
          "base_uri": "https://localhost:8080/"
        },
        "id": "JDRvXW-ScmyJ",
        "outputId": "faa586fa-9481-4521-9764-26246451d4af"
      },
      "execution_count": 39,
      "outputs": [
        {
          "output_type": "stream",
          "name": "stdout",
          "text": [
            "Ingrese numero 1  10\n",
            "Ingrese numero 2  1\n",
            "Números pares en el rango:\n",
            "2\n",
            "4\n",
            "6\n",
            "8\n",
            "10\n"
          ]
        }
      ]
    },
    {
      "cell_type": "markdown",
      "source": [
        "#Ejercicio 11\n",
        "\n",
        "Crea un programa que permite almacenar en una estructura un usuario y contraseña, la contraseña debe tener al menos 5 caracteres. El programa debe poder ser ejecutado a deseo cuantas veces se quiera sin perder la data ya guardada."
      ],
      "metadata": {
        "id": "dZ-OvNgTxgKT"
      }
    },
    {
      "cell_type": "code",
      "source": [
        "usuarios = []  # Lista para almacenar usuarios y contraseñas\n",
        "while True:\n",
        " usuario = input(\"Ingrese nombre usuario \")\n",
        " contraseña = input(\"Ingrese contraseña \")\n",
        " if len(contraseña) >= 5:\n",
        "  usuarios.append((usuario, contraseña))\n",
        " else:\n",
        "  print (\"Contraseña debe tener a lo menos 5 caracteres\")\n",
        "\n",
        " print(\"Usuarios y contraseñas almacenados desea continuar: s/n\")\n",
        " continuar = input()\n",
        " if continuar.lower() != 's':\n",
        "  print(usuarios)\n",
        "  break\n",
        "\n",
        ""
      ],
      "metadata": {
        "colab": {
          "base_uri": "https://localhost:8080/"
        },
        "id": "BjlfqlCUeuQ6",
        "outputId": "4d71d0cc-f847-4c91-9fce-be7e7b878f7d"
      },
      "execution_count": 59,
      "outputs": [
        {
          "output_type": "stream",
          "name": "stdout",
          "text": [
            "Ingrese nombre usuario claudia\n",
            "Ingrese contraseña 12345\n",
            "Usuarios y contraseñas almacenados desea continuar: s/n\n",
            "s\n",
            "Ingrese nombre usuario nelito\n",
            "Ingrese contraseña 34\n",
            "Contraseña debe tener a lo menos 5 caracteres\n",
            "Usuarios y contraseñas almacenados desea continuar: s/n\n",
            "n\n",
            "[('claudia', '12345')]\n"
          ]
        }
      ]
    },
    {
      "cell_type": "markdown",
      "source": [
        "#Ejercicio 12\n",
        "\n",
        "Usa el programa anterior para generar 5 usuarios, ahora debes haber otro programa que te permita logearte con usuario y contraseña."
      ],
      "metadata": {
        "id": "xR6p74HnyIQy"
      }
    }
  ]
}