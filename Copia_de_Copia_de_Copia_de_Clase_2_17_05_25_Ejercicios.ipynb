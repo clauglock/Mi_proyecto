{
  "nbformat": 4,
  "nbformat_minor": 0,
  "metadata": {
    "colab": {
      "provenance": [],
      "include_colab_link": true
    },
    "kernelspec": {
      "name": "python3",
      "display_name": "Python 3"
    },
    "language_info": {
      "name": "python"
    }
  },
  "cells": [
    {
      "cell_type": "markdown",
      "metadata": {
        "id": "view-in-github",
        "colab_type": "text"
      },
      "source": [
        "<a href=\"https://colab.research.google.com/github/clauglock/Mi_proyecto/blob/main/Copia_de_Copia_de_Copia_de_Clase_2_17_05_25_Ejercicios.ipynb\" target=\"_parent\"><img src=\"https://colab.research.google.com/assets/colab-badge.svg\" alt=\"Open In Colab\"/></a>"
      ]
    },
    {
      "cell_type": "markdown",
      "source": [
        "#Ejercicio 1\n",
        "\n",
        "Crea un diccionario con claves \"edad\" y \"invitado\". Solo puede entrar si tiene al menos 18 años y está en la lista de invitados."
      ],
      "metadata": {
        "id": "wuKndgbUHIcv"
      }
    },
    {
      "cell_type": "code",
      "source": [
        "# Crear diccionario con la edad y el nombre del invitado\n",
        "persona = {\"edad\": 10, \"invitado\": \"Carlos\"}\n",
        "persona = {\"edad\": 20, \"invitado\": \"Ana\"}\n",
        "\n",
        "# Lista de invitados permitidos\n",
        "lista_invitados = [\"Ana\", \"Carlos\"]\n",
        "\n",
        "# Verificar condiciones\n",
        "if persona[\"edad\"] >= 18 and persona[\"invitado\"] in lista_invitados:\n",
        "    print(f\"{persona['invitado']} puede entrar.\")\n",
        "else:\n",
        "    print(f\"{persona['invitado']} no cumple con los requisitos para entrar.\")\n",
        "\n"
      ],
      "metadata": {
        "id": "lArxh-JARJGQ",
        "colab": {
          "base_uri": "https://localhost:8080/"
        },
        "outputId": "440df0b4-e975-4c26-c51f-39922fe044ff"
      },
      "execution_count": null,
      "outputs": [
        {
          "output_type": "stream",
          "name": "stdout",
          "text": [
            "Ana puede entrar.\n"
          ]
        }
      ]
    },
    {
      "cell_type": "markdown",
      "source": [
        "#Ejercicio 2\n",
        "\n",
        "Dado un número de 0 a 20, muestra el mensaje:\n",
        "\n",
        "- \"Muy bien\" si es mayor o igual a 18\n",
        "- \"Bien\" si es entre 14 y 17\n",
        "- \"Suficiente\" si es entre 11 y 13\n",
        "- \"Desaprobado\" si es menor de 11"
      ],
      "metadata": {
        "id": "FhnIsFgNHIWZ"
      }
    },
    {
      "cell_type": "code",
      "source": [
        "# Pedir un número al usuario\n",
        "numero = int(input(\"Ingresa un número entre 0 y 20: \"))\n",
        "\n",
        "# Evaluar el número y mostrar el mensaje correspondiente\n",
        "if numero >= 18:\n",
        "    mensaje = \"Muy bien\"\n",
        "elif 14 <= numero <= 17:\n",
        "    mensaje = \"Bien\"\n",
        "elif 11 <= numero <= 13:\n",
        "    mensaje = \"Suficiente\"\n",
        "else:\n",
        "    mensaje = \"Desaprobado\"\n",
        "\n",
        "print(f\"Resultado: {mensaje}\")\n",
        "\n"
      ],
      "metadata": {
        "colab": {
          "base_uri": "https://localhost:8080/"
        },
        "id": "E4iLS0dXTsCI",
        "outputId": "9001a395-65ff-4a95-88d8-209230bb65a5"
      },
      "execution_count": null,
      "outputs": [
        {
          "output_type": "stream",
          "name": "stdout",
          "text": [
            "Ingresa un número entre 0 y 20: 20\n",
            "Resultado: Muy bien\n"
          ]
        }
      ]
    },
    {
      "cell_type": "markdown",
      "source": [
        "#Ejercicio 3\n",
        "\n",
        "Tienes una lista de productos. Pide al usuario que escriba uno y muestra si está disponible o no."
      ],
      "metadata": {
        "id": "GynBrCG4HIQ4"
      }
    },
    {
      "cell_type": "code",
      "source": [
        "productos = [\"manzana\", \"pan\", \"leche\", \"queso\"]\n",
        "producto_elegido = input(\"Ingresa un producto: \")\n",
        "# Verificar disponibilidad\n",
        "if producto_elegido in productos:\n",
        "    print(f\"El producto '{producto_elegido}' está disponible.\")\n",
        "else:\n",
        "    print(f\"El producto '{producto_elegido}' no está disponible.\")\n"
      ],
      "metadata": {
        "id": "aqL36IhWRMNk",
        "colab": {
          "base_uri": "https://localhost:8080/"
        },
        "outputId": "9b6cb4fb-313b-4bb1-9a11-7f5654c20d21"
      },
      "execution_count": null,
      "outputs": [
        {
          "output_type": "stream",
          "name": "stdout",
          "text": [
            "Ingresa un producto: galleta\n",
            "Lo siento, el producto 'galleta' no está disponible.\n"
          ]
        }
      ]
    },
    {
      "cell_type": "markdown",
      "source": [
        "#Ejercicio 4\n",
        "\n",
        "Haz un programa que solicite el dia de la semana (lunes, martes, etc) y segun el dia muestre un menu diferente, ademas si es sabado o domingo debe dar un mensaje distinto ya que dichos dias no hay menu."
      ],
      "metadata": {
        "id": "Ul_ngD_pHILP"
      }
    },
    {
      "cell_type": "code",
      "source": [],
      "metadata": {
        "id": "vsMEw58xYgyw"
      },
      "execution_count": null,
      "outputs": []
    },
    {
      "cell_type": "code",
      "source": [
        "# Solicita dia de la semana\n",
        "dia_semana = input(\"Ingresa un dia de la semana: \")\n",
        "\n",
        "# Muestra menú segun el dia\n",
        "if dia_semana == \"lunes\":\n",
        "    mensaje = \"Arroz\"\n",
        "elif dia_semana == \"martes\":\n",
        "    mensaje = \"Tallarines\"\n",
        "elif dia_semana == \"miercoles\":\n",
        "    mensaje = \"Cazuela\"\n",
        "elif dia_semana == \"jueves\":\n",
        "    mensaje = \"Carbonada\"\n",
        "elif dia_semana == \"viernes\":\n",
        "    mensaje = \"pescado\"\n",
        "elif dia_semana == \"sabado\" or dia_semana == \"domingo\" :\n",
        "    mensaje = \"Día no considerado en menú diario\"\n",
        "\n",
        "print(f\"Resultado: {mensaje}\")"
      ],
      "metadata": {
        "colab": {
          "base_uri": "https://localhost:8080/"
        },
        "id": "nCPRuPKNXZTJ",
        "outputId": "1232b706-66b6-4d31-878b-f98021e51d2e"
      },
      "execution_count": null,
      "outputs": [
        {
          "output_type": "stream",
          "name": "stdout",
          "text": [
            "Ingresa un dia de la semana: huhu\n",
            "Resultado: Día no considerado en menú diario\n"
          ]
        }
      ]
    },
    {
      "cell_type": "markdown",
      "source": [
        "#Ejercicio 5\n",
        "\n",
        "Tienes un diccionario de productos con su stock. Pide el nombre del producto y muestra si está disponible o agotado."
      ],
      "metadata": {
        "id": "0fbuG-plHH5Q"
      }
    },
    {
      "cell_type": "code",
      "source": [
        "# Diccionario de productos con su stock\n",
        "productos = {\n",
        "    \"cuaderno\": 10,\n",
        "    \"lapiz\": 5,\n",
        "    \"libro\": 0,\n",
        "    \"estuche\": 3,\n",
        "    \"goma\": 7\n",
        "}\n",
        "\n",
        "# Pedir al usuario que ingrese un producto\n",
        "producto_elegido = input(\"Ingrese el nombre del producto: \").lower()\n",
        "\n",
        "# Verificar disponibilidad\n",
        "if producto_elegido in productos:\n",
        "    if productos[producto_elegido] > 0:\n",
        "        print(f\"El producto '{producto_elegido}' está disponible con {productos[producto_elegido]} unidades.\")\n",
        "    else:\n",
        "        print(f\"El producto '{producto_usuario}' está agotado.\")\n",
        "else:\n",
        "    print(f\"Lo siento, el producto '{producto_usuario}' no está en la lista.\")\n"
      ],
      "metadata": {
        "colab": {
          "base_uri": "https://localhost:8080/"
        },
        "id": "maGVJ5Xza6De",
        "outputId": "5fc70e6d-670a-48a3-af12-e1338581b796"
      },
      "execution_count": 3,
      "outputs": [
        {
          "output_type": "stream",
          "name": "stdout",
          "text": [
            "Ingrese el nombre del producto: goma\n",
            "El producto 'goma' está disponible con 7 unidades.\n"
          ]
        }
      ]
    },
    {
      "cell_type": "markdown",
      "source": [
        "#Ejercicio 6\n",
        "\n",
        "Pide una edad y clasifícala como:\n",
        "\n",
        "- \"Niño\" si < 13\n",
        "- \"Adolescente\" si < 18\n",
        "- \"Adulto\" si < 60\n",
        "- \"Adulto mayor\" si ≥ 60\n",
        "\n",
        "Reconoce si no se ingresa una edad."
      ],
      "metadata": {
        "id": "eazGbSgwHHzl"
      }
    },
    {
      "cell_type": "code",
      "source": [
        "# Solicita dia de la semana\n",
        "edad = int(input(\"Ingresa edad \"))\n",
        "\n",
        "# Muestra menú segun el dia\n",
        "if edad < 13:\n",
        "    mensaje = \"Niño\"\n",
        "elif edad < 18:\n",
        "    mensaje = \"Adolescente\"\n",
        "elif edad < 60:\n",
        "    mensaje = \"Adulto\"\n",
        "elif edad >= 60:\n",
        "    mensaje = \"Adulto Mayor\"\n",
        "else:\n",
        "    mensaje = \"Edad no considerada\"\n",
        "\n",
        "print(f\"Resultado: {mensaje}\")"
      ],
      "metadata": {
        "colab": {
          "base_uri": "https://localhost:8080/"
        },
        "id": "UJnEda8QdpJn",
        "outputId": "50f8a035-f5fa-4e2c-c1d3-177a0ebadc4b"
      },
      "execution_count": 6,
      "outputs": [
        {
          "output_type": "stream",
          "name": "stdout",
          "text": [
            "Ingresa edad 65\n",
            "Resultado: Adulto Mayor\n"
          ]
        }
      ]
    },
    {
      "cell_type": "markdown",
      "source": [
        "#Ejercicio 7\n",
        "\n",
        "Haz un programa que pida un numero, y devuelva par o impar como respuesta, el programa debe reconocer si no se ingresan numeros."
      ],
      "metadata": {
        "id": "fMjrO7lXHIFJ"
      }
    },
    {
      "cell_type": "markdown",
      "source": [
        "#Ejercicio 8\n",
        "\n",
        "Crea un diccionario de usuarios y contraseñas, luego solicita al usuario ingresar su usuario y contraseña, muestra un mensaje acorde a si ambos son correctos, ambos incorrectos o solo 1 es correcto."
      ],
      "metadata": {
        "id": "znxySClZHHt0"
      }
    },
    {
      "cell_type": "code",
      "source": [
        "#Define diccionario\n",
        "dic = {\"usuario\" : \"1\" , \"contraseña\" : \"33\"}\n",
        "user = input(\"Ingresa usuario\")\n",
        "passw = input(\"Ingresa contraseña\")\n",
        "\n",
        "if dic[\"usuario\"] == user and dic[\"contraseña\"] == passw:\n",
        "  mensaje = \"Ambos correctos\"\n",
        "elif dic[\"usuario\"] != user and dic[\"contraseña\"] != passw:\n",
        "  mensaje = \"Ambos incorrectos\"\n",
        "elif dic[\"usuario\"] == user and dic[\"conraseña\"] != passw:\n",
        "  mensaje = \"solo usuario correcto\"\n",
        "elif   dic[\"usuario\"] != user and dic[\"conraseña\"] == passw:\n",
        "  mensaje = \"solo contraseña correcta\"\n",
        "\n",
        "print(f\"Resultado: {mensaje}\")\n",
        "\n"
      ],
      "metadata": {
        "colab": {
          "base_uri": "https://localhost:8080/"
        },
        "id": "eS0IlwojfVVc",
        "outputId": "bc351392-9b3b-4efc-9996-a1d315b121dd"
      },
      "execution_count": 9,
      "outputs": [
        {
          "output_type": "stream",
          "name": "stdout",
          "text": [
            "Ingresa usuariouser\n",
            "Ingresa contraseñapas\n",
            "Resultado: Ambos incorrectos\n"
          ]
        }
      ]
    },
    {
      "cell_type": "markdown",
      "source": [
        "#Ejercicio 9\n",
        "\n",
        "Solicita un mail y verifica si este es correcto validando los siguientes datos:\n",
        "\n",
        "- que el mail contenga 1 @\n",
        "- que el mail termine en .com o .pe o .edu\n",
        "- que el dominio sea gmail o hotmail"
      ],
      "metadata": {
        "id": "FxYrhuM5HHot"
      }
    },
    {
      "cell_type": "code",
      "source": [
        "# Pedir el correo al usuario\n",
        "email = input(\"Ingresa tu correo electrónico: \").strip()\n",
        "\n",
        "# Validar que contenga exactamente una \"@\"\n",
        "if email.count(\"@\") != 1:\n",
        "    print(\"Correo inválido: debe contener exactamente una '@'.\")\n",
        "else:\n",
        "    # Dividir el correo en usuario y dominio\n",
        "    usuario, dominio = email.split(\"@\")\n",
        "\n",
        "    # Validar el dominio\n",
        "    dominios_validos = [\"gmail.com\", \"hotmail.com\", \"gmail.pe\", \"hotmail.pe\", \"gmail.edu\", \"hotmail.edu\"]\n",
        "\n",
        "    if dominio in dominios_validos:\n",
        "        print(f\"Correo válido: {email}\")\n",
        "    else:\n",
        "        print(\"Correo inválido: el dominio debe ser 'gmail' o 'hotmail' con extensión '.com', '.pe' o '.edu'.\")\n"
      ],
      "metadata": {
        "colab": {
          "base_uri": "https://localhost:8080/"
        },
        "id": "KiJ0BGqMibBj",
        "outputId": "a5bed134-679f-4e06-df5a-a30402c01ed9"
      },
      "execution_count": 10,
      "outputs": [
        {
          "output_type": "stream",
          "name": "stdout",
          "text": [
            "Ingresa tu correo electrónico: clauglock@gmail.com\n",
            "Correo válido: clauglock@gmail.com\n"
          ]
        }
      ]
    },
    {
      "cell_type": "markdown",
      "source": [
        "#Ejercicio 10\n",
        "\n",
        "Dado un diccionario. Recomienda lo siguiente:\n",
        "\n",
        "Si es mayor de 18, está en Perú, y le gusta \"aventura\", recomienda \"Camino Inca\". Si le gusta \"comedia\", recomienda \"Festival de Cine\"."
      ],
      "metadata": {
        "id": "LxvjW4fZHHiv"
      }
    },
    {
      "cell_type": "code",
      "source": [
        "usuario = {\n",
        "    \"edad\": 22,\n",
        "    \"gustos\": [\"aventura\", \"comedia\"],\n",
        "    \"pais\": \"Perú\"\n",
        "}\n",
        "if usuario[\"edad\"] >= 18 and usuario[\"pais\"] == \"Perú\":\n",
        "    if \"aventura\" in usuario[\"gustos\"]:\n",
        "        print(\"Visitar el Camino Inca.\")\n",
        "    elif \"comedia\" in usuario[\"gustos\"]:\n",
        "        print(\"Asistir al Festival de Cine.\")\n",
        "    else:\n",
        "        print(\"No hay recomendaciones específicas para tus gustos.\")\n",
        "else:\n",
        "    print(\"No cumples con los criterios de recomendación.\")\n",
        "\n"
      ],
      "metadata": {
        "id": "NuELraE4UYHu",
        "colab": {
          "base_uri": "https://localhost:8080/"
        },
        "outputId": "cb0a9544-00c9-4b36-ca7d-f10f38895f7a"
      },
      "execution_count": 12,
      "outputs": [
        {
          "output_type": "stream",
          "name": "stdout",
          "text": [
            "Visitar el Camino Inca.\n"
          ]
        }
      ]
    },
    {
      "cell_type": "markdown",
      "source": [
        "#Ejercicio 11\n",
        "\n",
        "Compara 2 productos segun los siguientes criterios:\n",
        "- Si tienen la misma categoría, elige el más barato que tenga stock.\n",
        "- Si no tienen stock, imprimir \"No disponible\"."
      ],
      "metadata": {
        "id": "gTLmvpe9HH_D"
      }
    },
    {
      "cell_type": "code",
      "source": [
        "# Diccionarios con datos de los productos\n",
        "prod1 = {\"precio\": 1200, \"stock\": 5, \"categoria\": \"tecnología\"}\n",
        "prod2 = {\"precio\": 900, \"stock\": 0, \"categoria\": \"tecnología\"}\n",
        "\n",
        "# Comparar categoría y stock\n",
        "if prod1[\"categoria\"] == prod2[\"categoria\"]:\n",
        "    if prod1[\"stock\"] > 0 and prod2[\"stock\"] > 0:\n",
        "   # Elegir el más barato con stock\n",
        "        mejor_opcion = prod1 if prod1[\"precio\"] < prod2[\"precio\"] else prod2\n",
        "        print(f\"El producto recomendado es: {mejor_opcion['categoria']} (${mejor_opcion['precio']})\")\n",
        "    elif prod1[\"stock\"] > 0:\n",
        "        print(f\"El producto recomendado es: {prod1['categoria']} (${prod1['precio']})\")\n",
        "    elif prod2[\"stock\"] > 0:\n",
        "        print(f\"El producto recomendado es: {prod2['categoria']} (${prod2['precio']})\")\n",
        "    else:\n",
        "        print(\"No disponible\")\n",
        "else:\n",
        "    print(\"Los productos pertenecen a categorías diferentes, no se pueden comparar directamente.\")\n"
      ],
      "metadata": {
        "colab": {
          "base_uri": "https://localhost:8080/"
        },
        "id": "O30xcBLdmfbr",
        "outputId": "0be33760-e4c8-4a29-f772-5437e277b005"
      },
      "execution_count": 17,
      "outputs": [
        {
          "output_type": "stream",
          "name": "stdout",
          "text": [
            "El producto recomendado es: tecnología ($1200)\n"
          ]
        }
      ]
    },
    {
      "cell_type": "code",
      "source": [
        "prod1 = {\"precio\": 1200, \"stock\": 5, \"categoria\": \"tecnología\"}\n",
        "prod2 = {\"precio\": 900, \"stock\": 0, \"categoria\": \"tecnología\"}"
      ],
      "metadata": {
        "id": "RLg3YcjEU54r"
      },
      "execution_count": null,
      "outputs": []
    },
    {
      "cell_type": "markdown",
      "source": [
        "#Ejercicio 12\n",
        "\n",
        "Haz un programa que juegue piedra, papel o tijeras.\n",
        "\n",
        "- El programa debe solicitar al usuario un input y solo aceptar los 3 inputs validos, de lo contrario debe finalizar.\n",
        "- El programa debe ganar siempre."
      ],
      "metadata": {
        "id": "ihd-QsVwHFe1"
      }
    },
    {
      "cell_type": "code",
      "source": [
        "\n",
        "# Opciones válidas\n",
        "opciones = [\"piedra\", \"papel\", \"tijeras\"]\n",
        "\n",
        "# Pedir al usuario que ingrese su elección\n",
        "jugada_usuario = input(\"Elige: piedra, papel o tijeras: \").lower()\n",
        "\n",
        "# Validar si la jugada es correcta\n",
        "if jugada_usuario not in opciones:\n",
        "    print(\"Entrada no válida. Fin del juego.\")\n",
        "else:\n",
        "    # El programa siempre gana\n",
        "    if jugada_usuario == \"piedra\":\n",
        "        jugada_programa = \"papel\"\n",
        "    elif jugada_usuario == \"papel\":\n",
        "        jugada_programa = \"tijeras\"\n",
        "    else:  # Si el usuario elige \"tijeras\"\n",
        "        jugada_programa = \"piedra\"\n",
        "\n",
        "    print(f\"Tú elegiste: {jugada_usuario}\")\n",
        "    print(f\"El programa elige: {jugada_programa}\")\n",
        "    print(\"El programa gana. ¡Intenta otra vez!\")\n"
      ],
      "metadata": {
        "colab": {
          "base_uri": "https://localhost:8080/"
        },
        "id": "0ZANlVOwoeKH",
        "outputId": "7c56fcfb-2873-4b55-cbc0-ea38a7b3b76c"
      },
      "execution_count": 20,
      "outputs": [
        {
          "output_type": "stream",
          "name": "stdout",
          "text": [
            "Elige: piedra, papel o tijeras: piedra\n",
            "Tú elegiste: piedra\n",
            "El programa elige: papel\n",
            "El programa gana. ¡Intenta otra vez!\n"
          ]
        }
      ]
    }
  ]
}