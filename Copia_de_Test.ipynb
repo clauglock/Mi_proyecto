{
  "nbformat": 4,
  "nbformat_minor": 0,
  "metadata": {
    "colab": {
      "provenance": [],
      "authorship_tag": "ABX9TyO7Dm2xQVwdF/XogaJae+oP",
      "include_colab_link": true
    },
    "kernelspec": {
      "name": "python3",
      "display_name": "Python 3"
    },
    "language_info": {
      "name": "python"
    }
  },
  "cells": [
    {
      "cell_type": "markdown",
      "metadata": {
        "id": "view-in-github",
        "colab_type": "text"
      },
      "source": [
        "<a href=\"https://colab.research.google.com/github/clauglock/Mi_proyecto/blob/main/Copia_de_Test.ipynb\" target=\"_parent\"><img src=\"https://colab.research.google.com/assets/colab-badge.svg\" alt=\"Open In Colab\"/></a>"
      ]
    },
    {
      "cell_type": "code",
      "execution_count": null,
      "metadata": {
        "id": "BVEbQ9PEgaGf"
      },
      "outputs": [],
      "source": []
    },
    {
      "cell_type": "code",
      "source": [],
      "metadata": {
        "id": "GX5W2zP8iUrc"
      },
      "execution_count": null,
      "outputs": []
    },
    {
      "cell_type": "markdown",
      "source": [],
      "metadata": {
        "id": "XmU-K73HiXdN"
      }
    },
    {
      "cell_type": "code",
      "source": [
        "print(\"Hola\")"
      ],
      "metadata": {
        "colab": {
          "base_uri": "https://localhost:8080/"
        },
        "id": "ngJFDvy1iYyX",
        "outputId": "3df255c8-decd-463d-8540-2de995e1b935"
      },
      "execution_count": 1,
      "outputs": [
        {
          "output_type": "stream",
          "name": "stdout",
          "text": [
            "Hola\n"
          ]
        }
      ]
    },
    {
      "cell_type": "markdown",
      "source": [
        "Prueba de texto"
      ],
      "metadata": {
        "id": "Vo055kmihLv1"
      }
    },
    {
      "cell_type": "code",
      "source": [
        "print(\"\")"
      ],
      "metadata": {
        "id": "xdgYI86yif4V"
      },
      "execution_count": null,
      "outputs": []
    },
    {
      "cell_type": "markdown",
      "source": [
        "#Comentario\n",
        "#Otro Comentario"
      ],
      "metadata": {
        "id": "6tcXEldqyc4u"
      }
    },
    {
      "cell_type": "code",
      "source": [],
      "metadata": {
        "id": "wM5J1PLvyy7I"
      },
      "execution_count": null,
      "outputs": []
    },
    {
      "cell_type": "code",
      "source": [
        "print(\"Hola\")"
      ],
      "metadata": {
        "colab": {
          "base_uri": "https://localhost:8080/"
        },
        "id": "UNiL5kP4zALM",
        "outputId": "89643114-79b2-48e2-b41b-1dac4ef347bc"
      },
      "execution_count": 3,
      "outputs": [
        {
          "output_type": "stream",
          "name": "stdout",
          "text": [
            "Hola\n"
          ]
        }
      ]
    },
    {
      "cell_type": "code",
      "source": [
        "nombre = input(\"Ingresa tu nombre: \")\n",
        "apellidopaterno = input(\"Ingresa tu apellido paterno: \")\n",
        "apellidomaterno = input(\"Ingresa tu apellido materno: \")\n",
        "edad = input(\"Ingresa tu edad: \")\n",
        "ciudad = input(\"Ingresa tu ciudad: \")\n",
        "\n",
        "print(f\"Nombre: {nombre} Apellido Paterno:  {apellidopaterno} Apellido Matern0: {apellidomaterno}, Edad: {edad} y Ciudad: {ciudad}\")\n"
      ],
      "metadata": {
        "colab": {
          "base_uri": "https://localhost:8080/"
        },
        "id": "OICRXMuJ8kNd",
        "outputId": "f5002b87-b109-480f-c91d-e8e989f787f2"
      },
      "execution_count": 4,
      "outputs": [
        {
          "output_type": "stream",
          "name": "stdout",
          "text": [
            "Ingresa tu nombre: Clau\n",
            "Ingresa tu apellido paterno: Gon\n",
            "Ingresa tu apellido materno: Lo\n",
            "Ingresa tu edad: 55\n",
            "Ingresa tu ciudad: stgo\n",
            "Nombre: Clau Apellido Paterno:  Gon Apellido Matern0: Lo, Edad: 55 y Ciudad: stgo\n"
          ]
        }
      ]
    },
    {
      "cell_type": "code",
      "source": [
        "#Titulo"
      ],
      "metadata": {
        "id": "NUE7vYhNha-E"
      },
      "execution_count": 2,
      "outputs": []
    },
    {
      "cell_type": "markdown",
      "source": [
        "* Prueba\n",
        "* Prueba 2\n",
        "* Prueba 3\n"
      ],
      "metadata": {
        "id": "rrR5TZKTiDVg"
      }
    },
    {
      "cell_type": "code",
      "source": [],
      "metadata": {
        "id": "ycUdKKq1h5H9"
      },
      "execution_count": null,
      "outputs": []
    }
  ]
}